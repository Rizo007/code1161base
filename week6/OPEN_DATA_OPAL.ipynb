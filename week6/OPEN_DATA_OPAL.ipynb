{
 "cells": [
  {
   "cell_type": "code",
   "execution_count": 311,
   "metadata": {
    "collapsed": true,
    "deletable": true,
    "editable": true
   },
   "outputs": [],
   "source": [
    "import matplotlib\n",
    "import matplotlib.pyplot as plt\n",
    "import numpy as np\n",
    "import pandas as pd\n",
    "import os"
   ]
  },
  {
   "cell_type": "code",
   "execution_count": 312,
   "metadata": {
    "collapsed": true,
    "deletable": true,
    "editable": true
   },
   "outputs": [],
   "source": [
    "%matplotlib inline\n",
    "plt.rcParams['figure.figsize'] = (20, 10)"
   ]
  },
  {
   "cell_type": "code",
   "execution_count": 313,
   "metadata": {
    "collapsed": true,
    "deletable": true,
    "editable": true
   },
   "outputs": [],
   "source": [
    "saved_style_state = matplotlib.rcParams.copy()"
   ]
  },
  {
   "cell_type": "code",
   "execution_count": 314,
   "metadata": {
    "collapsed": false,
    "deletable": true,
    "editable": true
   },
   "outputs": [
    {
     "name": "stdout",
     "output_type": "stream",
     "text": [
      "loading from file\n",
      "done\n"
     ]
    }
   ],
   "source": [
    "if os.path.isfile(\"opal_dataset.csv\"):\n",
    "    filepath = \"opal_dataset.csv\"\n",
    "    print \"loading from file\"\n",
    "else:\n",
    "    filepath = \"https://opendata.transport.nsw.gov.au/node/1640/download/time-loc_20160808-14.csv\"\n",
    "    print \"loading from the internet\"\n",
    "\n",
    "opal_data = pd.read_csv(filepath)\n",
    "print \"done\""
   ]
  },
  {
   "cell_type": "code",
   "execution_count": 315,
   "metadata": {
    "collapsed": false,
    "deletable": true,
    "editable": true
   },
   "outputs": [
    {
     "data": {
      "text/html": [
       "<div>\n",
       "<table border=\"1\" class=\"dataframe\">\n",
       "  <thead>\n",
       "    <tr style=\"text-align: right;\">\n",
       "      <th></th>\n",
       "      <th>mode</th>\n",
       "      <th>date</th>\n",
       "      <th>tap</th>\n",
       "      <th>time</th>\n",
       "      <th>loc</th>\n",
       "      <th>count</th>\n",
       "    </tr>\n",
       "  </thead>\n",
       "  <tbody>\n",
       "    <tr>\n",
       "      <th>0</th>\n",
       "      <td>bus</td>\n",
       "      <td>20160809.0</td>\n",
       "      <td>on</td>\n",
       "      <td>02:30</td>\n",
       "      <td>2000</td>\n",
       "      <td>81.0</td>\n",
       "    </tr>\n",
       "    <tr>\n",
       "      <th>1</th>\n",
       "      <td>bus</td>\n",
       "      <td>20160809.0</td>\n",
       "      <td>on</td>\n",
       "      <td>13:30</td>\n",
       "      <td>2095</td>\n",
       "      <td>93.0</td>\n",
       "    </tr>\n",
       "    <tr>\n",
       "      <th>2</th>\n",
       "      <td>bus</td>\n",
       "      <td>20160809.0</td>\n",
       "      <td>on</td>\n",
       "      <td>13:30</td>\n",
       "      <td>2097</td>\n",
       "      <td>33.0</td>\n",
       "    </tr>\n",
       "    <tr>\n",
       "      <th>3</th>\n",
       "      <td>bus</td>\n",
       "      <td>20160809.0</td>\n",
       "      <td>on</td>\n",
       "      <td>13:30</td>\n",
       "      <td>2090</td>\n",
       "      <td>22.0</td>\n",
       "    </tr>\n",
       "    <tr>\n",
       "      <th>4</th>\n",
       "      <td>bus</td>\n",
       "      <td>20160809.0</td>\n",
       "      <td>on</td>\n",
       "      <td>13:30</td>\n",
       "      <td>2093</td>\n",
       "      <td>19.0</td>\n",
       "    </tr>\n",
       "  </tbody>\n",
       "</table>\n",
       "</div>"
      ],
      "text/plain": [
       "  mode        date tap   time   loc  count\n",
       "0  bus  20160809.0  on  02:30  2000   81.0\n",
       "1  bus  20160809.0  on  13:30  2095   93.0\n",
       "2  bus  20160809.0  on  13:30  2097   33.0\n",
       "3  bus  20160809.0  on  13:30  2090   22.0\n",
       "4  bus  20160809.0  on  13:30  2093   19.0"
      ]
     },
     "execution_count": 315,
     "metadata": {},
     "output_type": "execute_result"
    }
   ],
   "source": [
    "opal_data.head(5)"
   ]
  },
  {
   "cell_type": "code",
   "execution_count": 316,
   "metadata": {
    "collapsed": false,
    "deletable": true,
    "editable": true
   },
   "outputs": [
    {
     "data": {
      "text/plain": [
       "Index([u'mode', u'date', u'tap', u'time', u'loc', u'count'], dtype='object')"
      ]
     },
     "execution_count": 316,
     "metadata": {},
     "output_type": "execute_result"
    }
   ],
   "source": [
    "opal_data.columns"
   ]
  },
  {
   "cell_type": "code",
   "execution_count": 317,
   "metadata": {
    "collapsed": false,
    "deletable": true,
    "editable": true
   },
   "outputs": [
    {
     "data": {
      "text/plain": [
       "[u'The Rocks', u'Harris Park', u'Queens Park', u'Clovelly', u'Surry Hills']"
      ]
     },
     "execution_count": 317,
     "metadata": {},
     "output_type": "execute_result"
    }
   ],
   "source": [
    "import requests, json \n",
    "\n",
    "def post_getter(postcode):\n",
    "    url = \"http://v0.postcodeapi.com.au/suburbs/\" + str(postcode) + \".json\"\n",
    "    \n",
    "    getter = requests.get(url)\n",
    "    \n",
    "    data = json.loads(getter.text)\n",
    "    \n",
    "    return data[0][\"name\"]\n",
    "    \n",
    "actual_loc = post_getter(\"2000\")\n",
    "\n",
    "buslist = [2000, 2150, 2022, 2031, 2010]\n",
    "burblist = []\n",
    "\n",
    "for i in buslist:\n",
    "    result = post_getter(i)\n",
    "    burblist.append(result)\n",
    "    \n",
    "burblist\n",
    "    "
   ]
  },
  {
   "cell_type": "code",
   "execution_count": 318,
   "metadata": {
    "collapsed": false,
    "deletable": true,
    "editable": true
   },
   "outputs": [],
   "source": [
    "opal_data[\"loc_con\"] = opal_data[(opal_data['mode'] =='bus') & (opal_data['loc'] != '-1')][\"loc\"].head().apply(post_getter)"
   ]
  },
  {
   "cell_type": "code",
   "execution_count": 319,
   "metadata": {
    "collapsed": false,
    "deletable": true,
    "editable": true
   },
   "outputs": [],
   "source": [
    "# opal_data[\"top 5\"] = opal_data.head().apply(burblist)"
   ]
  },
  {
   "cell_type": "code",
   "execution_count": 320,
   "metadata": {
    "collapsed": false,
    "deletable": true,
    "editable": true
   },
   "outputs": [
    {
     "data": {
      "text/html": [
       "<div>\n",
       "<table border=\"1\" class=\"dataframe\">\n",
       "  <thead>\n",
       "    <tr style=\"text-align: right;\">\n",
       "      <th></th>\n",
       "      <th>mode</th>\n",
       "      <th>date</th>\n",
       "      <th>tap</th>\n",
       "      <th>time</th>\n",
       "      <th>loc</th>\n",
       "      <th>count</th>\n",
       "      <th>loc_con</th>\n",
       "    </tr>\n",
       "  </thead>\n",
       "  <tbody>\n",
       "    <tr>\n",
       "      <th>0</th>\n",
       "      <td>bus</td>\n",
       "      <td>20160809.0</td>\n",
       "      <td>on</td>\n",
       "      <td>02:30</td>\n",
       "      <td>2000</td>\n",
       "      <td>81.0</td>\n",
       "      <td>The Rocks</td>\n",
       "    </tr>\n",
       "    <tr>\n",
       "      <th>1</th>\n",
       "      <td>bus</td>\n",
       "      <td>20160809.0</td>\n",
       "      <td>on</td>\n",
       "      <td>13:30</td>\n",
       "      <td>2095</td>\n",
       "      <td>93.0</td>\n",
       "      <td>Manly</td>\n",
       "    </tr>\n",
       "    <tr>\n",
       "      <th>2</th>\n",
       "      <td>bus</td>\n",
       "      <td>20160809.0</td>\n",
       "      <td>on</td>\n",
       "      <td>13:30</td>\n",
       "      <td>2097</td>\n",
       "      <td>33.0</td>\n",
       "      <td>Collaroy</td>\n",
       "    </tr>\n",
       "    <tr>\n",
       "      <th>3</th>\n",
       "      <td>bus</td>\n",
       "      <td>20160809.0</td>\n",
       "      <td>on</td>\n",
       "      <td>13:30</td>\n",
       "      <td>2090</td>\n",
       "      <td>22.0</td>\n",
       "      <td>Cremorne Junction</td>\n",
       "    </tr>\n",
       "    <tr>\n",
       "      <th>4</th>\n",
       "      <td>bus</td>\n",
       "      <td>20160809.0</td>\n",
       "      <td>on</td>\n",
       "      <td>13:30</td>\n",
       "      <td>2093</td>\n",
       "      <td>19.0</td>\n",
       "      <td>Balgowlah</td>\n",
       "    </tr>\n",
       "  </tbody>\n",
       "</table>\n",
       "</div>"
      ],
      "text/plain": [
       "  mode        date tap   time   loc  count            loc_con\n",
       "0  bus  20160809.0  on  02:30  2000   81.0          The Rocks\n",
       "1  bus  20160809.0  on  13:30  2095   93.0              Manly\n",
       "2  bus  20160809.0  on  13:30  2097   33.0           Collaroy\n",
       "3  bus  20160809.0  on  13:30  2090   22.0  Cremorne Junction\n",
       "4  bus  20160809.0  on  13:30  2093   19.0          Balgowlah"
      ]
     },
     "execution_count": 320,
     "metadata": {},
     "output_type": "execute_result"
    }
   ],
   "source": [
    "opal_data.head()"
   ]
  },
  {
   "cell_type": "code",
   "execution_count": 321,
   "metadata": {
    "collapsed": false,
    "deletable": true,
    "editable": true
   },
   "outputs": [],
   "source": [
    "# graph_2 = opal_data[(opal_data['mode'] =='train') & (opal_data['loc'] != '-1') & (opal_data['tap'] =='on') & (opal_data['date'] == 20160809.0)]\n",
    "# graph_2"
   ]
  },
  {
   "cell_type": "code",
   "execution_count": 322,
   "metadata": {
    "collapsed": false,
    "deletable": true,
    "editable": true
   },
   "outputs": [],
   "source": [
    "# graph_1"
   ]
  },
  {
   "cell_type": "code",
   "execution_count": 323,
   "metadata": {
    "collapsed": false,
    "deletable": true,
    "editable": true
   },
   "outputs": [
    {
     "data": {
      "text/plain": [
       "2000    95\n",
       "2010    78\n",
       "2150    76\n",
       "2026    74\n",
       "2022    73\n",
       "Name: loc, dtype: int64"
      ]
     },
     "execution_count": 323,
     "metadata": {},
     "output_type": "execute_result"
    }
   ],
   "source": [
    "graph_1 = opal_data[(opal_data['mode'] =='bus') & (opal_data['loc'] != '-1') & (opal_data['tap'] =='on') & (opal_data['date'] == 20160809.0)]\n",
    "postcodecounts = graph_1['loc'].value_counts()\n",
    "top_5 = postcodecounts.head(5)\n",
    "top_5"
   ]
  },
  {
   "cell_type": "code",
   "execution_count": 324,
   "metadata": {
    "collapsed": false,
    "deletable": true,
    "editable": true
   },
   "outputs": [],
   "source": [
    "new_columns = graph_1.groupby (\"loc\")['count'].sum()"
   ]
  },
  {
   "cell_type": "code",
   "execution_count": 325,
   "metadata": {
    "collapsed": false
   },
   "outputs": [
    {
     "data": {
      "text/plain": [
       "loc\n",
       "2000    147922.0\n",
       "2150     26579.0\n",
       "2022     21241.0\n",
       "2031     21134.0\n",
       "2010     18059.0\n",
       "2033     16634.0\n",
       "2148     14567.0\n",
       "2035     13842.0\n",
       "2113     13319.0\n",
       "2170     12778.0\n",
       "2026     12311.0\n",
       "2050     12231.0\n",
       "2060     11322.0\n",
       "2088     10083.0\n",
       "2153      9194.0\n",
       "2200      9031.0\n",
       "2067      8979.0\n",
       "2065      8751.0\n",
       "2089      8649.0\n",
       "2032      8588.0\n",
       "2220      8309.0\n",
       "2017      8055.0\n",
       "2037      8033.0\n",
       "2099      7978.0\n",
       "2042      7844.0\n",
       "2100      7781.0\n",
       "2770      7714.0\n",
       "2066      7689.0\n",
       "2560      7558.0\n",
       "2250      7552.0\n",
       "          ...   \n",
       "2773       132.0\n",
       "2262       129.0\n",
       "2334       129.0\n",
       "2048       113.0\n",
       "2205       111.0\n",
       "2291       110.0\n",
       "2533       106.0\n",
       "2082       104.0\n",
       "2079        98.0\n",
       "2558        79.0\n",
       "2748        78.0\n",
       "2278        75.0\n",
       "2563        74.0\n",
       "2782        74.0\n",
       "2231        56.0\n",
       "2286        55.0\n",
       "2295        52.0\n",
       "2191        49.0\n",
       "2297        39.0\n",
       "2783        36.0\n",
       "2119        28.0\n",
       "2559        27.0\n",
       "2754        23.0\n",
       "2326        21.0\n",
       "2143        21.0\n",
       "2105        20.0\n",
       "2157        20.0\n",
       "2778        20.0\n",
       "2785        20.0\n",
       "2307        18.0\n",
       "Name: count, dtype: float64"
      ]
     },
     "execution_count": 325,
     "metadata": {},
     "output_type": "execute_result"
    }
   ],
   "source": [
    "sorted_0 = new_columns.sort_values(ascending = False)\n",
    "sorted_0"
   ]
  },
  {
   "cell_type": "code",
   "execution_count": 326,
   "metadata": {
    "collapsed": false
   },
   "outputs": [
    {
     "data": {
      "text/plain": [
       "887124.0"
      ]
     },
     "execution_count": 326,
     "metadata": {},
     "output_type": "execute_result"
    }
   ],
   "source": [
    "sorted_0.sum()"
   ]
  },
  {
   "cell_type": "code",
   "execution_count": 327,
   "metadata": {
    "collapsed": false,
    "deletable": true,
    "editable": true
   },
   "outputs": [],
   "source": [
    "top_count = sorted_0.head(5)\n",
    "# type(top_count)\n",
    "top_count_df = top_count.to_frame()\n",
    "burb_names = pd.Series(burblist)"
   ]
  },
  {
   "cell_type": "code",
   "execution_count": 328,
   "metadata": {
    "collapsed": false,
    "deletable": true,
    "editable": true
   },
   "outputs": [
    {
     "data": {
      "text/html": [
       "<div>\n",
       "<table border=\"1\" class=\"dataframe\">\n",
       "  <thead>\n",
       "    <tr style=\"text-align: right;\">\n",
       "      <th></th>\n",
       "      <th>count</th>\n",
       "      <th>Location</th>\n",
       "    </tr>\n",
       "    <tr>\n",
       "      <th>loc</th>\n",
       "      <th></th>\n",
       "      <th></th>\n",
       "    </tr>\n",
       "  </thead>\n",
       "  <tbody>\n",
       "    <tr>\n",
       "      <th>2000</th>\n",
       "      <td>147922.0</td>\n",
       "      <td>The Rocks</td>\n",
       "    </tr>\n",
       "    <tr>\n",
       "      <th>2150</th>\n",
       "      <td>26579.0</td>\n",
       "      <td>Harris Park</td>\n",
       "    </tr>\n",
       "    <tr>\n",
       "      <th>2022</th>\n",
       "      <td>21241.0</td>\n",
       "      <td>Queens Park</td>\n",
       "    </tr>\n",
       "    <tr>\n",
       "      <th>2031</th>\n",
       "      <td>21134.0</td>\n",
       "      <td>Clovelly</td>\n",
       "    </tr>\n",
       "    <tr>\n",
       "      <th>2010</th>\n",
       "      <td>18059.0</td>\n",
       "      <td>Surry Hills</td>\n",
       "    </tr>\n",
       "  </tbody>\n",
       "</table>\n",
       "</div>"
      ],
      "text/plain": [
       "         count     Location\n",
       "loc                        \n",
       "2000  147922.0    The Rocks\n",
       "2150   26579.0  Harris Park\n",
       "2022   21241.0  Queens Park\n",
       "2031   21134.0     Clovelly\n",
       "2010   18059.0  Surry Hills"
      ]
     },
     "execution_count": 328,
     "metadata": {},
     "output_type": "execute_result"
    }
   ],
   "source": [
    "top_count_df['Location'] = burb_names.values\n",
    "top_count_df"
   ]
  },
  {
   "cell_type": "code",
   "execution_count": 329,
   "metadata": {
    "collapsed": false,
    "deletable": true,
    "editable": true
   },
   "outputs": [
    {
     "data": {
      "text/plain": [
       "u'The Rocks'"
      ]
     },
     "execution_count": 329,
     "metadata": {},
     "output_type": "execute_result"
    }
   ],
   "source": [
    "actual_loc"
   ]
  },
  {
   "cell_type": "code",
   "execution_count": 330,
   "metadata": {
    "collapsed": false,
    "deletable": true,
    "editable": true
   },
   "outputs": [
    {
     "data": {
      "text/plain": [
       "<matplotlib.legend.Legend at 0x7f0323f66ad0>"
      ]
     },
     "execution_count": 330,
     "metadata": {},
     "output_type": "execute_result"
    },
    {
     "data": {
      "image/png": "[encoded data removed]",
      "text/plain": [
       "<matplotlib.figure.Figure at 0x7f0324352150>"
      ]
     },
     "metadata": {},
     "output_type": "display_data"
    }
   ],
   "source": [
    "top_count_df[top_count_df['count'] > 0].plot.bar(x='Location', y='count', facecolor = 'purple')\n",
    "plt.xlabel('Location', fontsize=26)\n",
    "plt.title('Top 5 Bus', fontsize=26)\n",
    "plt.legend(prop={'size':20})"
   ]
  },
  {
   "cell_type": "code",
   "execution_count": 331,
   "metadata": {
    "collapsed": false
   },
   "outputs": [],
   "source": [
    "graph_2 = opal_data[(opal_data['mode'] =='train') & (opal_data['loc'] != '-1') & (opal_data['tap'] =='on') & (opal_data['date'] == 20160809.0)]"
   ]
  },
  {
   "cell_type": "code",
   "execution_count": 332,
   "metadata": {
    "collapsed": false
   },
   "outputs": [],
   "source": [
    "new_columns_2 = graph_2.groupby(\"loc\")[\"count\"].sum()\n",
    "# new_columns_2"
   ]
  },
  {
   "cell_type": "code",
   "execution_count": 333,
   "metadata": {
    "collapsed": false
   },
   "outputs": [
    {
     "data": {
      "text/plain": [
       "loc\n",
       "Central Station                 115886.0\n",
       "Town Hall Station               109077.0\n",
       "Wynyard Station                  78154.0\n",
       "Parramatta Station               36754.0\n",
       "North Sydney Station             31449.0\n",
       "Circular Quay Station            29302.0\n",
       "Redfern Station                  28114.0\n",
       "Chatswood Station                27647.0\n",
       "Bondi Junction Station           25390.0\n",
       "Strathfield Station              23800.0\n",
       "Martin Place Station             23645.0\n",
       "Hurstville Station               20348.0\n",
       "St Leonards Station              18290.0\n",
       "Burwood Station                  17306.0\n",
       "Blacktown Station                16584.0\n",
       "Kings Cross Station              15888.0\n",
       "UNKNOWN                          14518.0\n",
       "Ashfield Station                 13013.0\n",
       "Museum Station                   12785.0\n",
       "Lidcombe Station                 12674.0\n",
       "Macquarie University Station     12425.0\n",
       "Kogarah Station                  12071.0\n",
       "Hornsby Station                  11955.0\n",
       "Mascot Station                   11650.0\n",
       "Epping Station                   11491.0\n",
       "Auburn Station                   11444.0\n",
       "St James Station                 10449.0\n",
       "Rockdale Station                 10424.0\n",
       "Green Square Station              9660.0\n",
       "Rhodes Station                    9421.0\n",
       "                                  ...   \n",
       "Bomaderry Station                   74.0\n",
       "East Richmond Station               62.0\n",
       "Austinmer Station                   60.0\n",
       "Wyee Station                        58.0\n",
       "Picton Station                      55.0\n",
       "Rosehill Station                    51.0\n",
       "Bulli Station                       48.0\n",
       "Bowral Station                      46.0\n",
       "Maitland Station                    43.0\n",
       "Blackheath Station                  41.0\n",
       "Leightonfield Station               37.0\n",
       "Hawkesbury River Station            30.0\n",
       "Lisarow Station                     26.0\n",
       "Niagara Park Station                24.0\n",
       "Lapstone Station                    21.0\n",
       "Moss Vale Station                   21.0\n",
       "Singleton Station                   20.0\n",
       "Tascott Station                     19.0\n",
       "Booragul Station                    19.0\n",
       "Cowan Station                       19.0\n",
       "Koolewong Station                   19.0\n",
       "Clarendon Station                   19.0\n",
       "Woonona Station                     19.0\n",
       "Telarah Station                     18.0\n",
       "Stanwell Park Station               18.0\n",
       "Rydalmere Station                   18.0\n",
       "Bathurst Station                    18.0\n",
       "Lawson Station                      18.0\n",
       "Corrimal Station                    18.0\n",
       "Woodford Station                    18.0\n",
       "Name: count, dtype: float64"
      ]
     },
     "execution_count": 333,
     "metadata": {},
     "output_type": "execute_result"
    }
   ],
   "source": [
    "sorted_2 = new_columns_2.sort_values(ascending = False)\n",
    "sorted_2"
   ]
  },
  {
   "cell_type": "code",
   "execution_count": 334,
   "metadata": {
    "collapsed": false
   },
   "outputs": [
    {
     "data": {
      "text/plain": [
       "1206743.0"
      ]
     },
     "execution_count": 334,
     "metadata": {},
     "output_type": "execute_result"
    }
   ],
   "source": [
    "sorted_2.sum()"
   ]
  },
  {
   "cell_type": "code",
   "execution_count": 335,
   "metadata": {
    "collapsed": false
   },
   "outputs": [
    {
     "data": {
      "text/html": [
       "<div>\n",
       "<table border=\"1\" class=\"dataframe\">\n",
       "  <thead>\n",
       "    <tr style=\"text-align: right;\">\n",
       "      <th></th>\n",
       "      <th>count</th>\n",
       "    </tr>\n",
       "    <tr>\n",
       "      <th>loc</th>\n",
       "      <th></th>\n",
       "    </tr>\n",
       "  </thead>\n",
       "  <tbody>\n",
       "    <tr>\n",
       "      <th>Central Station</th>\n",
       "      <td>115886.0</td>\n",
       "    </tr>\n",
       "    <tr>\n",
       "      <th>Town Hall Station</th>\n",
       "      <td>109077.0</td>\n",
       "    </tr>\n",
       "    <tr>\n",
       "      <th>Wynyard Station</th>\n",
       "      <td>78154.0</td>\n",
       "    </tr>\n",
       "    <tr>\n",
       "      <th>Parramatta Station</th>\n",
       "      <td>36754.0</td>\n",
       "    </tr>\n",
       "    <tr>\n",
       "      <th>North Sydney Station</th>\n",
       "      <td>31449.0</td>\n",
       "    </tr>\n",
       "  </tbody>\n",
       "</table>\n",
       "</div>"
      ],
      "text/plain": [
       "                         count\n",
       "loc                           \n",
       "Central Station       115886.0\n",
       "Town Hall Station     109077.0\n",
       "Wynyard Station        78154.0\n",
       "Parramatta Station     36754.0\n",
       "North Sydney Station   31449.0"
      ]
     },
     "execution_count": 335,
     "metadata": {},
     "output_type": "execute_result"
    }
   ],
   "source": [
    "top_count_2 = sorted_2.head(5)\n",
    "top_count_df_2 = top_count_2.to_frame()\n",
    "top_count_df_2"
   ]
  },
  {
   "cell_type": "code",
   "execution_count": 336,
   "metadata": {
    "collapsed": false
   },
   "outputs": [
    {
     "data": {
      "text/plain": [
       "<matplotlib.legend.Legend at 0x7f03240ef690>"
      ]
     },
     "execution_count": 336,
     "metadata": {},
     "output_type": "execute_result"
    },
    {
     "data": {
      "image/png": "[encoded data removed]",
      "text/plain": [
       "<matplotlib.figure.Figure at 0x7f0323de9510>"
      ]
     },
     "metadata": {},
     "output_type": "display_data"
    }
   ],
   "source": [
    "top_count_df_2[top_count_df_2['count'] > 0].plot.bar(y='count', facecolor = 'red')\n",
    "plt.title('Top 5 Train Stations', fontsize=28)\n",
    "plt.xlabel('Location', fontsize=26)\n",
    "plt.legend(prop={'size':20})"
   ]
  },
  {
   "cell_type": "code",
   "execution_count": 337,
   "metadata": {
    "collapsed": false,
    "scrolled": false
   },
   "outputs": [
    {
     "data": {
      "text/plain": [
       "<matplotlib.legend.Legend at 0x7f03280d2690>"
      ]
     },
     "execution_count": 337,
     "metadata": {},
     "output_type": "execute_result"
    },
    {
     "data": {
      "image/png": "[encoded data removed]",
      "text/plain": [
       "<matplotlib.figure.Figure at 0x7f03280c8750>"
      ]
     },
     "metadata": {},
     "output_type": "display_data"
    }
   ],
   "source": [
    "x = [1]\n",
    "x2 = [2]\n",
    "x3 = [3]\n",
    "y = [887124]\n",
    "y2 = [1206743]\n",
    "y3 = [28037]\n",
    "plt.bar(x, y, label='Bus')\n",
    "plt.bar(x2, y2, label='Train')\n",
    "plt.bar(x3, y3, label='Ferry')\n",
    "plt.title('Mode of Transport Comparison', fontsize=28)\n",
    "plt.legend(prop={'size':20})"
   ]
  },
  {
   "cell_type": "code",
   "execution_count": 338,
   "metadata": {
    "collapsed": false
   },
   "outputs": [
    {
     "data": {
      "text/html": [
       "<div>\n",
       "<table border=\"1\" class=\"dataframe\">\n",
       "  <thead>\n",
       "    <tr style=\"text-align: right;\">\n",
       "      <th></th>\n",
       "      <th>mode</th>\n",
       "      <th>date</th>\n",
       "      <th>tap</th>\n",
       "      <th>time</th>\n",
       "      <th>loc</th>\n",
       "      <th>count</th>\n",
       "      <th>loc_con</th>\n",
       "    </tr>\n",
       "  </thead>\n",
       "  <tbody>\n",
       "    <tr>\n",
       "      <th>213220</th>\n",
       "      <td>ferry</td>\n",
       "      <td>20160809.0</td>\n",
       "      <td>on</td>\n",
       "      <td>19:00</td>\n",
       "      <td>Manly Wharf</td>\n",
       "      <td>33.0</td>\n",
       "      <td>NaN</td>\n",
       "    </tr>\n",
       "    <tr>\n",
       "      <th>213221</th>\n",
       "      <td>ferry</td>\n",
       "      <td>20160809.0</td>\n",
       "      <td>on</td>\n",
       "      <td>19:00</td>\n",
       "      <td>Circular Quay No. 5 Wharf</td>\n",
       "      <td>28.0</td>\n",
       "      <td>NaN</td>\n",
       "    </tr>\n",
       "    <tr>\n",
       "      <th>213222</th>\n",
       "      <td>ferry</td>\n",
       "      <td>20160809.0</td>\n",
       "      <td>on</td>\n",
       "      <td>19:00</td>\n",
       "      <td>Circular Quay No. 3 Wharf</td>\n",
       "      <td>25.0</td>\n",
       "      <td>NaN</td>\n",
       "    </tr>\n",
       "    <tr>\n",
       "      <th>213223</th>\n",
       "      <td>ferry</td>\n",
       "      <td>20160809.0</td>\n",
       "      <td>on</td>\n",
       "      <td>19:00</td>\n",
       "      <td>Darling Harbour Wharf 3</td>\n",
       "      <td>21.0</td>\n",
       "      <td>NaN</td>\n",
       "    </tr>\n",
       "    <tr>\n",
       "      <th>213224</th>\n",
       "      <td>ferry</td>\n",
       "      <td>20160809.0</td>\n",
       "      <td>on</td>\n",
       "      <td>13:30</td>\n",
       "      <td>Queens Wharf</td>\n",
       "      <td>19.0</td>\n",
       "      <td>NaN</td>\n",
       "    </tr>\n",
       "    <tr>\n",
       "      <th>213225</th>\n",
       "      <td>ferry</td>\n",
       "      <td>20160809.0</td>\n",
       "      <td>on</td>\n",
       "      <td>13:30</td>\n",
       "      <td>Circular Quay No. 5 Wharf</td>\n",
       "      <td>55.0</td>\n",
       "      <td>NaN</td>\n",
       "    </tr>\n",
       "    <tr>\n",
       "      <th>213226</th>\n",
       "      <td>ferry</td>\n",
       "      <td>20160809.0</td>\n",
       "      <td>on</td>\n",
       "      <td>13:30</td>\n",
       "      <td>Circular Quay No. 3 Wharf</td>\n",
       "      <td>88.0</td>\n",
       "      <td>NaN</td>\n",
       "    </tr>\n",
       "    <tr>\n",
       "      <th>213227</th>\n",
       "      <td>ferry</td>\n",
       "      <td>20160809.0</td>\n",
       "      <td>on</td>\n",
       "      <td>13:30</td>\n",
       "      <td>Circular Quay No. 4 Wharf</td>\n",
       "      <td>42.0</td>\n",
       "      <td>NaN</td>\n",
       "    </tr>\n",
       "    <tr>\n",
       "      <th>213228</th>\n",
       "      <td>ferry</td>\n",
       "      <td>20160809.0</td>\n",
       "      <td>on</td>\n",
       "      <td>13:30</td>\n",
       "      <td>Watsons Bay Wharf</td>\n",
       "      <td>64.0</td>\n",
       "      <td>NaN</td>\n",
       "    </tr>\n",
       "    <tr>\n",
       "      <th>213229</th>\n",
       "      <td>ferry</td>\n",
       "      <td>20160809.0</td>\n",
       "      <td>on</td>\n",
       "      <td>13:30</td>\n",
       "      <td>Taronga Zoo Wharf</td>\n",
       "      <td>25.0</td>\n",
       "      <td>NaN</td>\n",
       "    </tr>\n",
       "    <tr>\n",
       "      <th>213230</th>\n",
       "      <td>ferry</td>\n",
       "      <td>20160809.0</td>\n",
       "      <td>on</td>\n",
       "      <td>13:30</td>\n",
       "      <td>Manly Wharf</td>\n",
       "      <td>156.0</td>\n",
       "      <td>NaN</td>\n",
       "    </tr>\n",
       "    <tr>\n",
       "      <th>213231</th>\n",
       "      <td>ferry</td>\n",
       "      <td>20160809.0</td>\n",
       "      <td>on</td>\n",
       "      <td>13:30</td>\n",
       "      <td>Circular Quay No. 2 Wharf</td>\n",
       "      <td>46.0</td>\n",
       "      <td>NaN</td>\n",
       "    </tr>\n",
       "    <tr>\n",
       "      <th>213232</th>\n",
       "      <td>ferry</td>\n",
       "      <td>20160809.0</td>\n",
       "      <td>on</td>\n",
       "      <td>13:30</td>\n",
       "      <td>Darling Harbour Wharf 3</td>\n",
       "      <td>32.0</td>\n",
       "      <td>NaN</td>\n",
       "    </tr>\n",
       "    <tr>\n",
       "      <th>213233</th>\n",
       "      <td>ferry</td>\n",
       "      <td>20160809.0</td>\n",
       "      <td>on</td>\n",
       "      <td>12:00</td>\n",
       "      <td>Circular Quay No. 5 Wharf</td>\n",
       "      <td>43.0</td>\n",
       "      <td>NaN</td>\n",
       "    </tr>\n",
       "    <tr>\n",
       "      <th>213234</th>\n",
       "      <td>ferry</td>\n",
       "      <td>20160809.0</td>\n",
       "      <td>on</td>\n",
       "      <td>12:00</td>\n",
       "      <td>Circular Quay No. 3 Wharf</td>\n",
       "      <td>95.0</td>\n",
       "      <td>NaN</td>\n",
       "    </tr>\n",
       "    <tr>\n",
       "      <th>213235</th>\n",
       "      <td>ferry</td>\n",
       "      <td>20160809.0</td>\n",
       "      <td>on</td>\n",
       "      <td>12:00</td>\n",
       "      <td>Circular Quay No. 4 Wharf</td>\n",
       "      <td>54.0</td>\n",
       "      <td>NaN</td>\n",
       "    </tr>\n",
       "    <tr>\n",
       "      <th>213236</th>\n",
       "      <td>ferry</td>\n",
       "      <td>20160809.0</td>\n",
       "      <td>on</td>\n",
       "      <td>12:00</td>\n",
       "      <td>Taronga Zoo Wharf</td>\n",
       "      <td>37.0</td>\n",
       "      <td>NaN</td>\n",
       "    </tr>\n",
       "    <tr>\n",
       "      <th>213237</th>\n",
       "      <td>ferry</td>\n",
       "      <td>20160809.0</td>\n",
       "      <td>on</td>\n",
       "      <td>12:00</td>\n",
       "      <td>Manly Wharf</td>\n",
       "      <td>95.0</td>\n",
       "      <td>NaN</td>\n",
       "    </tr>\n",
       "    <tr>\n",
       "      <th>213238</th>\n",
       "      <td>ferry</td>\n",
       "      <td>20160809.0</td>\n",
       "      <td>on</td>\n",
       "      <td>12:00</td>\n",
       "      <td>Circular Quay No. 2 Wharf</td>\n",
       "      <td>58.0</td>\n",
       "      <td>NaN</td>\n",
       "    </tr>\n",
       "    <tr>\n",
       "      <th>213239</th>\n",
       "      <td>ferry</td>\n",
       "      <td>20160809.0</td>\n",
       "      <td>on</td>\n",
       "      <td>15:45</td>\n",
       "      <td>Queens Wharf</td>\n",
       "      <td>22.0</td>\n",
       "      <td>NaN</td>\n",
       "    </tr>\n",
       "    <tr>\n",
       "      <th>213240</th>\n",
       "      <td>ferry</td>\n",
       "      <td>20160809.0</td>\n",
       "      <td>on</td>\n",
       "      <td>15:45</td>\n",
       "      <td>Circular Quay No. 5 Wharf</td>\n",
       "      <td>85.0</td>\n",
       "      <td>NaN</td>\n",
       "    </tr>\n",
       "    <tr>\n",
       "      <th>213241</th>\n",
       "      <td>ferry</td>\n",
       "      <td>20160809.0</td>\n",
       "      <td>on</td>\n",
       "      <td>15:45</td>\n",
       "      <td>Circular Quay No. 3 Wharf</td>\n",
       "      <td>113.0</td>\n",
       "      <td>NaN</td>\n",
       "    </tr>\n",
       "    <tr>\n",
       "      <th>213242</th>\n",
       "      <td>ferry</td>\n",
       "      <td>20160809.0</td>\n",
       "      <td>on</td>\n",
       "      <td>15:45</td>\n",
       "      <td>Circular Quay No. 4 Wharf</td>\n",
       "      <td>43.0</td>\n",
       "      <td>NaN</td>\n",
       "    </tr>\n",
       "    <tr>\n",
       "      <th>213243</th>\n",
       "      <td>ferry</td>\n",
       "      <td>20160809.0</td>\n",
       "      <td>on</td>\n",
       "      <td>15:45</td>\n",
       "      <td>Taronga Zoo Wharf</td>\n",
       "      <td>48.0</td>\n",
       "      <td>NaN</td>\n",
       "    </tr>\n",
       "    <tr>\n",
       "      <th>213244</th>\n",
       "      <td>ferry</td>\n",
       "      <td>20160809.0</td>\n",
       "      <td>on</td>\n",
       "      <td>15:45</td>\n",
       "      <td>Manly Wharf</td>\n",
       "      <td>65.0</td>\n",
       "      <td>NaN</td>\n",
       "    </tr>\n",
       "    <tr>\n",
       "      <th>213245</th>\n",
       "      <td>ferry</td>\n",
       "      <td>20160809.0</td>\n",
       "      <td>on</td>\n",
       "      <td>15:45</td>\n",
       "      <td>Circular Quay No. 2 Wharf</td>\n",
       "      <td>47.0</td>\n",
       "      <td>NaN</td>\n",
       "    </tr>\n",
       "    <tr>\n",
       "      <th>213246</th>\n",
       "      <td>ferry</td>\n",
       "      <td>20160809.0</td>\n",
       "      <td>on</td>\n",
       "      <td>15:45</td>\n",
       "      <td>Darling Harbour Wharf 3</td>\n",
       "      <td>55.0</td>\n",
       "      <td>NaN</td>\n",
       "    </tr>\n",
       "    <tr>\n",
       "      <th>213247</th>\n",
       "      <td>ferry</td>\n",
       "      <td>20160809.0</td>\n",
       "      <td>on</td>\n",
       "      <td>10:45</td>\n",
       "      <td>Rydalmere Wharf</td>\n",
       "      <td>35.0</td>\n",
       "      <td>NaN</td>\n",
       "    </tr>\n",
       "    <tr>\n",
       "      <th>213248</th>\n",
       "      <td>ferry</td>\n",
       "      <td>20160809.0</td>\n",
       "      <td>on</td>\n",
       "      <td>10:45</td>\n",
       "      <td>Circular Quay No. 5 Wharf</td>\n",
       "      <td>52.0</td>\n",
       "      <td>NaN</td>\n",
       "    </tr>\n",
       "    <tr>\n",
       "      <th>213249</th>\n",
       "      <td>ferry</td>\n",
       "      <td>20160809.0</td>\n",
       "      <td>on</td>\n",
       "      <td>10:45</td>\n",
       "      <td>Circular Quay No. 3 Wharf</td>\n",
       "      <td>179.0</td>\n",
       "      <td>NaN</td>\n",
       "    </tr>\n",
       "    <tr>\n",
       "      <th>...</th>\n",
       "      <td>...</td>\n",
       "      <td>...</td>\n",
       "      <td>...</td>\n",
       "      <td>...</td>\n",
       "      <td>...</td>\n",
       "      <td>...</td>\n",
       "      <td>...</td>\n",
       "    </tr>\n",
       "    <tr>\n",
       "      <th>213630</th>\n",
       "      <td>ferry</td>\n",
       "      <td>20160809.0</td>\n",
       "      <td>on</td>\n",
       "      <td>07:45</td>\n",
       "      <td>Cabarita Wharf</td>\n",
       "      <td>42.0</td>\n",
       "      <td>NaN</td>\n",
       "    </tr>\n",
       "    <tr>\n",
       "      <th>213631</th>\n",
       "      <td>ferry</td>\n",
       "      <td>20160809.0</td>\n",
       "      <td>on</td>\n",
       "      <td>07:45</td>\n",
       "      <td>Double Bay Wharf</td>\n",
       "      <td>22.0</td>\n",
       "      <td>NaN</td>\n",
       "    </tr>\n",
       "    <tr>\n",
       "      <th>213632</th>\n",
       "      <td>ferry</td>\n",
       "      <td>20160809.0</td>\n",
       "      <td>on</td>\n",
       "      <td>07:45</td>\n",
       "      <td>Balmain East Wharf</td>\n",
       "      <td>46.0</td>\n",
       "      <td>NaN</td>\n",
       "    </tr>\n",
       "    <tr>\n",
       "      <th>213633</th>\n",
       "      <td>ferry</td>\n",
       "      <td>20160809.0</td>\n",
       "      <td>on</td>\n",
       "      <td>07:45</td>\n",
       "      <td>Chiswick Wharf</td>\n",
       "      <td>29.0</td>\n",
       "      <td>NaN</td>\n",
       "    </tr>\n",
       "    <tr>\n",
       "      <th>213634</th>\n",
       "      <td>ferry</td>\n",
       "      <td>20160809.0</td>\n",
       "      <td>on</td>\n",
       "      <td>07:45</td>\n",
       "      <td>Sydney Olympic Park Wharf</td>\n",
       "      <td>26.0</td>\n",
       "      <td>NaN</td>\n",
       "    </tr>\n",
       "    <tr>\n",
       "      <th>213635</th>\n",
       "      <td>ferry</td>\n",
       "      <td>20160809.0</td>\n",
       "      <td>on</td>\n",
       "      <td>07:45</td>\n",
       "      <td>Cremorne Point Wharf</td>\n",
       "      <td>32.0</td>\n",
       "      <td>NaN</td>\n",
       "    </tr>\n",
       "    <tr>\n",
       "      <th>213636</th>\n",
       "      <td>ferry</td>\n",
       "      <td>20160809.0</td>\n",
       "      <td>on</td>\n",
       "      <td>07:45</td>\n",
       "      <td>South Mosman Wharf</td>\n",
       "      <td>60.0</td>\n",
       "      <td>NaN</td>\n",
       "    </tr>\n",
       "    <tr>\n",
       "      <th>213637</th>\n",
       "      <td>ferry</td>\n",
       "      <td>20160809.0</td>\n",
       "      <td>on</td>\n",
       "      <td>07:45</td>\n",
       "      <td>Balmain Wharf</td>\n",
       "      <td>76.0</td>\n",
       "      <td>NaN</td>\n",
       "    </tr>\n",
       "    <tr>\n",
       "      <th>213638</th>\n",
       "      <td>ferry</td>\n",
       "      <td>20160809.0</td>\n",
       "      <td>on</td>\n",
       "      <td>07:45</td>\n",
       "      <td>Huntleys Point Wharf</td>\n",
       "      <td>31.0</td>\n",
       "      <td>NaN</td>\n",
       "    </tr>\n",
       "    <tr>\n",
       "      <th>213639</th>\n",
       "      <td>ferry</td>\n",
       "      <td>20160809.0</td>\n",
       "      <td>on</td>\n",
       "      <td>07:45</td>\n",
       "      <td>Manly Wharf</td>\n",
       "      <td>320.0</td>\n",
       "      <td>NaN</td>\n",
       "    </tr>\n",
       "    <tr>\n",
       "      <th>213640</th>\n",
       "      <td>ferry</td>\n",
       "      <td>20160809.0</td>\n",
       "      <td>on</td>\n",
       "      <td>07:45</td>\n",
       "      <td>Rose Bay Wharf</td>\n",
       "      <td>191.0</td>\n",
       "      <td>NaN</td>\n",
       "    </tr>\n",
       "    <tr>\n",
       "      <th>213641</th>\n",
       "      <td>ferry</td>\n",
       "      <td>20160809.0</td>\n",
       "      <td>on</td>\n",
       "      <td>07:45</td>\n",
       "      <td>Woolwich Wharf</td>\n",
       "      <td>31.0</td>\n",
       "      <td>NaN</td>\n",
       "    </tr>\n",
       "    <tr>\n",
       "      <th>213642</th>\n",
       "      <td>ferry</td>\n",
       "      <td>20160809.0</td>\n",
       "      <td>on</td>\n",
       "      <td>07:45</td>\n",
       "      <td>Mosman Bay Wharf</td>\n",
       "      <td>58.0</td>\n",
       "      <td>NaN</td>\n",
       "    </tr>\n",
       "    <tr>\n",
       "      <th>213643</th>\n",
       "      <td>ferry</td>\n",
       "      <td>20160809.0</td>\n",
       "      <td>on</td>\n",
       "      <td>07:45</td>\n",
       "      <td>Stockton Wharf</td>\n",
       "      <td>46.0</td>\n",
       "      <td>NaN</td>\n",
       "    </tr>\n",
       "    <tr>\n",
       "      <th>213644</th>\n",
       "      <td>ferry</td>\n",
       "      <td>20160809.0</td>\n",
       "      <td>on</td>\n",
       "      <td>07:45</td>\n",
       "      <td>Abbotsford Wharf</td>\n",
       "      <td>46.0</td>\n",
       "      <td>NaN</td>\n",
       "    </tr>\n",
       "    <tr>\n",
       "      <th>213645</th>\n",
       "      <td>ferry</td>\n",
       "      <td>20160809.0</td>\n",
       "      <td>on</td>\n",
       "      <td>08:15</td>\n",
       "      <td>Drummoyne Wharf</td>\n",
       "      <td>32.0</td>\n",
       "      <td>NaN</td>\n",
       "    </tr>\n",
       "    <tr>\n",
       "      <th>213646</th>\n",
       "      <td>ferry</td>\n",
       "      <td>20160809.0</td>\n",
       "      <td>on</td>\n",
       "      <td>08:15</td>\n",
       "      <td>Cabarita Wharf</td>\n",
       "      <td>39.0</td>\n",
       "      <td>NaN</td>\n",
       "    </tr>\n",
       "    <tr>\n",
       "      <th>213647</th>\n",
       "      <td>ferry</td>\n",
       "      <td>20160809.0</td>\n",
       "      <td>on</td>\n",
       "      <td>08:15</td>\n",
       "      <td>Double Bay Wharf</td>\n",
       "      <td>29.0</td>\n",
       "      <td>NaN</td>\n",
       "    </tr>\n",
       "    <tr>\n",
       "      <th>213648</th>\n",
       "      <td>ferry</td>\n",
       "      <td>20160809.0</td>\n",
       "      <td>on</td>\n",
       "      <td>08:15</td>\n",
       "      <td>Balmain East Wharf</td>\n",
       "      <td>53.0</td>\n",
       "      <td>NaN</td>\n",
       "    </tr>\n",
       "    <tr>\n",
       "      <th>213649</th>\n",
       "      <td>ferry</td>\n",
       "      <td>20160809.0</td>\n",
       "      <td>on</td>\n",
       "      <td>08:15</td>\n",
       "      <td>Cremorne Point Wharf</td>\n",
       "      <td>26.0</td>\n",
       "      <td>NaN</td>\n",
       "    </tr>\n",
       "    <tr>\n",
       "      <th>213650</th>\n",
       "      <td>ferry</td>\n",
       "      <td>20160809.0</td>\n",
       "      <td>on</td>\n",
       "      <td>08:15</td>\n",
       "      <td>South Mosman Wharf</td>\n",
       "      <td>38.0</td>\n",
       "      <td>NaN</td>\n",
       "    </tr>\n",
       "    <tr>\n",
       "      <th>213651</th>\n",
       "      <td>ferry</td>\n",
       "      <td>20160809.0</td>\n",
       "      <td>on</td>\n",
       "      <td>08:15</td>\n",
       "      <td>Balmain Wharf</td>\n",
       "      <td>73.0</td>\n",
       "      <td>NaN</td>\n",
       "    </tr>\n",
       "    <tr>\n",
       "      <th>213652</th>\n",
       "      <td>ferry</td>\n",
       "      <td>20160809.0</td>\n",
       "      <td>on</td>\n",
       "      <td>08:15</td>\n",
       "      <td>Rose Bay Wharf</td>\n",
       "      <td>114.0</td>\n",
       "      <td>NaN</td>\n",
       "    </tr>\n",
       "    <tr>\n",
       "      <th>213653</th>\n",
       "      <td>ferry</td>\n",
       "      <td>20160809.0</td>\n",
       "      <td>on</td>\n",
       "      <td>08:15</td>\n",
       "      <td>Manly Wharf</td>\n",
       "      <td>110.0</td>\n",
       "      <td>NaN</td>\n",
       "    </tr>\n",
       "    <tr>\n",
       "      <th>213654</th>\n",
       "      <td>ferry</td>\n",
       "      <td>20160809.0</td>\n",
       "      <td>on</td>\n",
       "      <td>08:15</td>\n",
       "      <td>Kirribilli Wharf</td>\n",
       "      <td>27.0</td>\n",
       "      <td>NaN</td>\n",
       "    </tr>\n",
       "    <tr>\n",
       "      <th>213655</th>\n",
       "      <td>ferry</td>\n",
       "      <td>20160809.0</td>\n",
       "      <td>on</td>\n",
       "      <td>08:15</td>\n",
       "      <td>Old Cremorne Wharf</td>\n",
       "      <td>32.0</td>\n",
       "      <td>NaN</td>\n",
       "    </tr>\n",
       "    <tr>\n",
       "      <th>213656</th>\n",
       "      <td>ferry</td>\n",
       "      <td>20160809.0</td>\n",
       "      <td>on</td>\n",
       "      <td>08:15</td>\n",
       "      <td>Mosman Bay Wharf</td>\n",
       "      <td>52.0</td>\n",
       "      <td>NaN</td>\n",
       "    </tr>\n",
       "    <tr>\n",
       "      <th>213657</th>\n",
       "      <td>ferry</td>\n",
       "      <td>20160809.0</td>\n",
       "      <td>on</td>\n",
       "      <td>08:15</td>\n",
       "      <td>Stockton Wharf</td>\n",
       "      <td>37.0</td>\n",
       "      <td>NaN</td>\n",
       "    </tr>\n",
       "    <tr>\n",
       "      <th>213658</th>\n",
       "      <td>ferry</td>\n",
       "      <td>20160809.0</td>\n",
       "      <td>on</td>\n",
       "      <td>08:15</td>\n",
       "      <td>Woolwich Wharf</td>\n",
       "      <td>32.0</td>\n",
       "      <td>NaN</td>\n",
       "    </tr>\n",
       "    <tr>\n",
       "      <th>213659</th>\n",
       "      <td>ferry</td>\n",
       "      <td>20160809.0</td>\n",
       "      <td>on</td>\n",
       "      <td>08:15</td>\n",
       "      <td>Abbotsford Wharf</td>\n",
       "      <td>44.0</td>\n",
       "      <td>NaN</td>\n",
       "    </tr>\n",
       "  </tbody>\n",
       "</table>\n",
       "<p>440 rows × 7 columns</p>\n",
       "</div>"
      ],
      "text/plain": [
       "         mode        date tap   time                        loc  count loc_con\n",
       "213220  ferry  20160809.0  on  19:00                Manly Wharf   33.0     NaN\n",
       "213221  ferry  20160809.0  on  19:00  Circular Quay No. 5 Wharf   28.0     NaN\n",
       "213222  ferry  20160809.0  on  19:00  Circular Quay No. 3 Wharf   25.0     NaN\n",
       "213223  ferry  20160809.0  on  19:00    Darling Harbour Wharf 3   21.0     NaN\n",
       "213224  ferry  20160809.0  on  13:30               Queens Wharf   19.0     NaN\n",
       "213225  ferry  20160809.0  on  13:30  Circular Quay No. 5 Wharf   55.0     NaN\n",
       "213226  ferry  20160809.0  on  13:30  Circular Quay No. 3 Wharf   88.0     NaN\n",
       "213227  ferry  20160809.0  on  13:30  Circular Quay No. 4 Wharf   42.0     NaN\n",
       "213228  ferry  20160809.0  on  13:30          Watsons Bay Wharf   64.0     NaN\n",
       "213229  ferry  20160809.0  on  13:30          Taronga Zoo Wharf   25.0     NaN\n",
       "213230  ferry  20160809.0  on  13:30                Manly Wharf  156.0     NaN\n",
       "213231  ferry  20160809.0  on  13:30  Circular Quay No. 2 Wharf   46.0     NaN\n",
       "213232  ferry  20160809.0  on  13:30    Darling Harbour Wharf 3   32.0     NaN\n",
       "213233  ferry  20160809.0  on  12:00  Circular Quay No. 5 Wharf   43.0     NaN\n",
       "213234  ferry  20160809.0  on  12:00  Circular Quay No. 3 Wharf   95.0     NaN\n",
       "213235  ferry  20160809.0  on  12:00  Circular Quay No. 4 Wharf   54.0     NaN\n",
       "213236  ferry  20160809.0  on  12:00          Taronga Zoo Wharf   37.0     NaN\n",
       "213237  ferry  20160809.0  on  12:00                Manly Wharf   95.0     NaN\n",
       "213238  ferry  20160809.0  on  12:00  Circular Quay No. 2 Wharf   58.0     NaN\n",
       "213239  ferry  20160809.0  on  15:45               Queens Wharf   22.0     NaN\n",
       "213240  ferry  20160809.0  on  15:45  Circular Quay No. 5 Wharf   85.0     NaN\n",
       "213241  ferry  20160809.0  on  15:45  Circular Quay No. 3 Wharf  113.0     NaN\n",
       "213242  ferry  20160809.0  on  15:45  Circular Quay No. 4 Wharf   43.0     NaN\n",
       "213243  ferry  20160809.0  on  15:45          Taronga Zoo Wharf   48.0     NaN\n",
       "213244  ferry  20160809.0  on  15:45                Manly Wharf   65.0     NaN\n",
       "213245  ferry  20160809.0  on  15:45  Circular Quay No. 2 Wharf   47.0     NaN\n",
       "213246  ferry  20160809.0  on  15:45    Darling Harbour Wharf 3   55.0     NaN\n",
       "213247  ferry  20160809.0  on  10:45            Rydalmere Wharf   35.0     NaN\n",
       "213248  ferry  20160809.0  on  10:45  Circular Quay No. 5 Wharf   52.0     NaN\n",
       "213249  ferry  20160809.0  on  10:45  Circular Quay No. 3 Wharf  179.0     NaN\n",
       "...       ...         ...  ..    ...                        ...    ...     ...\n",
       "213630  ferry  20160809.0  on  07:45             Cabarita Wharf   42.0     NaN\n",
       "213631  ferry  20160809.0  on  07:45           Double Bay Wharf   22.0     NaN\n",
       "213632  ferry  20160809.0  on  07:45         Balmain East Wharf   46.0     NaN\n",
       "213633  ferry  20160809.0  on  07:45             Chiswick Wharf   29.0     NaN\n",
       "213634  ferry  20160809.0  on  07:45  Sydney Olympic Park Wharf   26.0     NaN\n",
       "213635  ferry  20160809.0  on  07:45       Cremorne Point Wharf   32.0     NaN\n",
       "213636  ferry  20160809.0  on  07:45         South Mosman Wharf   60.0     NaN\n",
       "213637  ferry  20160809.0  on  07:45              Balmain Wharf   76.0     NaN\n",
       "213638  ferry  20160809.0  on  07:45       Huntleys Point Wharf   31.0     NaN\n",
       "213639  ferry  20160809.0  on  07:45                Manly Wharf  320.0     NaN\n",
       "213640  ferry  20160809.0  on  07:45             Rose Bay Wharf  191.0     NaN\n",
       "213641  ferry  20160809.0  on  07:45             Woolwich Wharf   31.0     NaN\n",
       "213642  ferry  20160809.0  on  07:45           Mosman Bay Wharf   58.0     NaN\n",
       "213643  ferry  20160809.0  on  07:45             Stockton Wharf   46.0     NaN\n",
       "213644  ferry  20160809.0  on  07:45           Abbotsford Wharf   46.0     NaN\n",
       "213645  ferry  20160809.0  on  08:15            Drummoyne Wharf   32.0     NaN\n",
       "213646  ferry  20160809.0  on  08:15             Cabarita Wharf   39.0     NaN\n",
       "213647  ferry  20160809.0  on  08:15           Double Bay Wharf   29.0     NaN\n",
       "213648  ferry  20160809.0  on  08:15         Balmain East Wharf   53.0     NaN\n",
       "213649  ferry  20160809.0  on  08:15       Cremorne Point Wharf   26.0     NaN\n",
       "213650  ferry  20160809.0  on  08:15         South Mosman Wharf   38.0     NaN\n",
       "213651  ferry  20160809.0  on  08:15              Balmain Wharf   73.0     NaN\n",
       "213652  ferry  20160809.0  on  08:15             Rose Bay Wharf  114.0     NaN\n",
       "213653  ferry  20160809.0  on  08:15                Manly Wharf  110.0     NaN\n",
       "213654  ferry  20160809.0  on  08:15           Kirribilli Wharf   27.0     NaN\n",
       "213655  ferry  20160809.0  on  08:15         Old Cremorne Wharf   32.0     NaN\n",
       "213656  ferry  20160809.0  on  08:15           Mosman Bay Wharf   52.0     NaN\n",
       "213657  ferry  20160809.0  on  08:15             Stockton Wharf   37.0     NaN\n",
       "213658  ferry  20160809.0  on  08:15             Woolwich Wharf   32.0     NaN\n",
       "213659  ferry  20160809.0  on  08:15           Abbotsford Wharf   44.0     NaN\n",
       "\n",
       "[440 rows x 7 columns]"
      ]
     },
     "execution_count": 338,
     "metadata": {},
     "output_type": "execute_result"
    }
   ],
   "source": [
    "graph_3 = opal_data[(opal_data['mode'] =='ferry') & (opal_data['loc'] != '-1') & (opal_data['tap'] =='on') & (opal_data['date'] == 20160809.0)]\n",
    "graph_3"
   ]
  },
  {
   "cell_type": "code",
   "execution_count": 339,
   "metadata": {
    "collapsed": true
   },
   "outputs": [],
   "source": [
    "new_columns_3 = graph_3.groupby(\"loc\")[\"count\"].sum()"
   ]
  },
  {
   "cell_type": "code",
   "execution_count": 340,
   "metadata": {
    "collapsed": false
   },
   "outputs": [
    {
     "data": {
      "text/plain": [
       "loc\n",
       "Circular Quay No. 3 Wharf    5079.0\n",
       "Manly Wharf                  4776.0\n",
       "Circular Quay No. 5 Wharf    3264.0\n",
       "Circular Quay No. 4 Wharf    2764.0\n",
       "Circular Quay No. 2 Wharf    2702.0\n",
       "Darling Harbour Wharf 3      1574.0\n",
       "Taronga Zoo Wharf            1452.0\n",
       "Rose Bay Wharf                899.0\n",
       "UNKNOWN                       763.0\n",
       "Balmain Wharf                 501.0\n",
       "Watsons Bay Wharf             389.0\n",
       "Milsons Point Wharf           358.0\n",
       "Cabarita Wharf                340.0\n",
       "Mosman Bay Wharf              310.0\n",
       "Stockton Wharf                306.0\n",
       "Balmain East Wharf            277.0\n",
       "Abbotsford Wharf              221.0\n",
       "Queens Wharf                  219.0\n",
       "Cremorne Point Wharf          213.0\n",
       "Drummoyne Wharf               186.0\n",
       "Neutral Bay Wharf             170.0\n",
       "Sydney Olympic Park Wharf     164.0\n",
       "Rydalmere Wharf               163.0\n",
       "Huntleys Point Wharf          151.0\n",
       "Chiswick Wharf                131.0\n",
       "Kurraba Point Wharf           125.0\n",
       "South Mosman Wharf            124.0\n",
       "Double Bay Wharf               88.0\n",
       "Woolwich Wharf                 84.0\n",
       "Cockatoo Island Wharf          62.0\n",
       "Pyrmont Bay Wharf              43.0\n",
       "Kissing Point Wharf            42.0\n",
       "Meadowbank Wharf               38.0\n",
       "Old Cremorne Wharf             32.0\n",
       "Kirribilli Wharf               27.0\n",
       "Name: count, dtype: float64"
      ]
     },
     "execution_count": 340,
     "metadata": {},
     "output_type": "execute_result"
    }
   ],
   "source": [
    "sorted_3 = new_columns_3.sort_values(ascending = False)\n",
    "sorted_3"
   ]
  },
  {
   "cell_type": "code",
   "execution_count": 341,
   "metadata": {
    "collapsed": false
   },
   "outputs": [
    {
     "data": {
      "text/plain": [
       "28037.0"
      ]
     },
     "execution_count": 341,
     "metadata": {},
     "output_type": "execute_result"
    }
   ],
   "source": [
    "sorted_3.sum()"
   ]
  },
  {
   "cell_type": "code",
   "execution_count": 342,
   "metadata": {
    "collapsed": false
   },
   "outputs": [
    {
     "data": {
      "text/html": [
       "<div>\n",
       "<table border=\"1\" class=\"dataframe\">\n",
       "  <thead>\n",
       "    <tr style=\"text-align: right;\">\n",
       "      <th></th>\n",
       "      <th>count</th>\n",
       "    </tr>\n",
       "    <tr>\n",
       "      <th>loc</th>\n",
       "      <th></th>\n",
       "    </tr>\n",
       "  </thead>\n",
       "  <tbody>\n",
       "    <tr>\n",
       "      <th>Circular Quay No. 3 Wharf</th>\n",
       "      <td>5079.0</td>\n",
       "    </tr>\n",
       "    <tr>\n",
       "      <th>Manly Wharf</th>\n",
       "      <td>4776.0</td>\n",
       "    </tr>\n",
       "    <tr>\n",
       "      <th>Circular Quay No. 5 Wharf</th>\n",
       "      <td>3264.0</td>\n",
       "    </tr>\n",
       "    <tr>\n",
       "      <th>Circular Quay No. 4 Wharf</th>\n",
       "      <td>2764.0</td>\n",
       "    </tr>\n",
       "    <tr>\n",
       "      <th>Circular Quay No. 2 Wharf</th>\n",
       "      <td>2702.0</td>\n",
       "    </tr>\n",
       "  </tbody>\n",
       "</table>\n",
       "</div>"
      ],
      "text/plain": [
       "                            count\n",
       "loc                              \n",
       "Circular Quay No. 3 Wharf  5079.0\n",
       "Manly Wharf                4776.0\n",
       "Circular Quay No. 5 Wharf  3264.0\n",
       "Circular Quay No. 4 Wharf  2764.0\n",
       "Circular Quay No. 2 Wharf  2702.0"
      ]
     },
     "execution_count": 342,
     "metadata": {},
     "output_type": "execute_result"
    }
   ],
   "source": [
    "top_count_3 = sorted_3.head(5)\n",
    "top_count_df_3 = top_count_3.to_frame()\n",
    "top_count_df_3"
   ]
  }
 ],
 "metadata": {
  "kernelspec": {
   "display_name": "Python 2",
   "language": "python",
   "name": "python2"
  },
  "language_info": {
   "codemirror_mode": {
    "name": "ipython",
    "version": 2
   },
   "file_extension": ".py",
   "mimetype": "text/x-python",
   "name": "python",
   "nbconvert_exporter": "python",
   "pygments_lexer": "ipython2",
   "version": "2.7.12"
  }
 },
 "nbformat": 4,
 "nbformat_minor": 2
}
